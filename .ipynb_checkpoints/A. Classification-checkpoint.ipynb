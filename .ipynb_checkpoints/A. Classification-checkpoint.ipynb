{
 "cells": [
  {
   "cell_type": "code",
   "execution_count": 1,
   "id": "36ea7a94",
   "metadata": {},
   "outputs": [],
   "source": [
    "from pyspark import SparkConf\n",
    "from pyspark.ml import Pipeline, PipelineModel\n",
    "from pyspark.ml.feature import HashingTF, IDF, Tokenizer, RegexTokenizer, StopWordsRemover\n",
    "from pyspark.sql import SparkSession, functions, types\n",
    "from pyspark.ml.classification import LogisticRegression, LinearSVC, NaiveBayes\n",
    "from pyspark.ml.evaluation import MulticlassClassificationEvaluator\n",
    "import matplotlib.pyplot as plt\n",
    "%matplotlib inline"
   ]
  },
  {
   "cell_type": "code",
   "execution_count": 3,
   "id": "519aa3eb",
   "metadata": {},
   "outputs": [],
   "source": [
    "spark = SparkSession.builder.master(\"local\").appName(\"Classification\").getOrCreate()\n",
    "readData = lambda path, label: spark.read.text(path).withColumn(\"label\", functions.lit(label))\n",
    "pTrain = readData(\"./spam-datasets/spam_training.txt\",1)\n",
    "nTrain = readData(\"./spam-datasets/nospam_training.txt\",0)\n",
    "pTest = readData(\"./spam-datasets/spam_testing.txt\",1)\n",
    "nTest = readData(\"./spam-datasets/nospam_testing.txt\",0)\n",
    "trainSet = pTrain.union(nTrain).cache()\n",
    "testSet = pTest.union(nTest).cache()"
   ]
  },
  {
   "cell_type": "code",
   "execution_count": 4,
   "id": "fec2f241",
   "metadata": {},
   "outputs": [],
   "source": [
    "tokenizer = RegexTokenizer(pattern=\"[^a-z0-9A-Z\\-\\']|https?://\\S+|www\\.\\S+|\\w*\\d\\w*\", inputCol=\"value\", outputCol=\"words_s\")\n",
    "remover = StopWordsRemover(inputCol=\"words_s\", outputCol=\"words\")\n",
    "hashingTF = HashingTF(inputCol=\"words\", outputCol=\"rawFeatures\", numFeatures=16384)\n",
    "idf = IDF(inputCol=\"rawFeatures\", outputCol=\"features\")\n",
    "lr = LogisticRegression()\n",
    "nb = NaiveBayes()\n",
    "svm = LinearSVC()"
   ]
  },
  {
   "cell_type": "code",
   "execution_count": 6,
   "id": "bc271ea1",
   "metadata": {},
   "outputs": [],
   "source": [
    "pipelineFit = lambda estimator: Pipeline(stages=[tokenizer, remover, hashingTF, idf, estimator]).fit(trainSet)\n",
    "lrModel = pipelineFit(lr)\n",
    "nbModel = pipelineFit(nb)\n",
    "svmModel = pipelineFit(svm)"
   ]
  },
  {
   "cell_type": "code",
   "execution_count": null,
   "id": "1dad7e58",
   "metadata": {},
   "outputs": [],
   "source": [
    "predict = lambda model: model.transform(testSet).select(\"prediction\", \"label\")\n",
    "lrPredictions = predict(lrModel)\n",
    "nbPredictions = predict(nbModel)\n",
    "svmPredictions = predict(svmModel)"
   ]
  },
  {
   "cell_type": "code",
   "execution_count": null,
   "id": "707f516c",
   "metadata": {},
   "outputs": [],
   "source": [
    "getMetric = lambda predictions, metric: MulticlassClassificationEvaluator(metricName=metric).evaluate(predictions)\n",
    "getMetrics = lambda predictions: (getMetric(predictions, \"accuracy\"), getMetric(predictions, \"recallByLabel\"), \n",
    "                                  getMetric(predictions, \"precisionByLabel\"))\n",
    "\n",
    "lr_acc, lr_rec, lr_pre = getMetrics(lrPredictions)\n",
    "nb_acc, nb_rec, nb_pre = getMetrics(nbPredictions)\n",
    "svm_acc, svm_rec, svm_pre = getMetrics(svmPredictions)"
   ]
  },
  {
   "cell_type": "code",
   "execution_count": null,
   "id": "e6ae1f1c",
   "metadata": {},
   "outputs": [],
   "source": [
    "def plot_bar(y, label): \n",
    "    fig, ax = plt.subplots()\n",
    "    labels = [\"LogisticRegression\", \"NaiveBayes\", \"SVM\"]\n",
    "    colors = [\"red\",\"green\",\"blue\"]\n",
    "    ax.bar(range(3), y, tick_label=labels, color=colors)\n",
    "    ax.set_ylabel(label)\n",
    "    for i,v in enumerate(y):\n",
    "        ax.text(i-.1, v, str(round(v,4)*100)+\"%\", fontweight='bold')\n",
    "    plt.ylim(0.9,1)\n",
    "    plt.show()"
   ]
  },
  {
   "cell_type": "code",
   "execution_count": null,
   "id": "91ebd5dd",
   "metadata": {},
   "outputs": [],
   "source": [
    "plot_bar([lr_acc, nb_acc, svm_acc], \"Accuracy\")\n",
    "plot_bar([lr_rec, nb_rec, svm_rec], \"Recall\")\n",
    "plot_bar([lr_pre, nb_pre, svm_pre], \"Precision\")"
   ]
  },
  {
   "cell_type": "code",
   "execution_count": null,
   "id": "25624270",
   "metadata": {},
   "outputs": [],
   "source": []
  }
 ],
 "metadata": {
  "kernelspec": {
   "display_name": "Python 3 (ipykernel)",
   "language": "python",
   "name": "python3"
  },
  "language_info": {
   "codemirror_mode": {
    "name": "ipython",
    "version": 3
   },
   "file_extension": ".py",
   "mimetype": "text/x-python",
   "name": "python",
   "nbconvert_exporter": "python",
   "pygments_lexer": "ipython3",
   "version": "3.9.7"
  }
 },
 "nbformat": 4,
 "nbformat_minor": 5
}
