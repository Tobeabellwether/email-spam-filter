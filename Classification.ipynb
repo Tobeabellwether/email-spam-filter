{
 "cells": [
  {
   "cell_type": "code",
   "execution_count": 1,
   "id": "36ea7a94",
   "metadata": {},
   "outputs": [],
   "source": [
    "from pyspark import SparkConf\n",
    "from pyspark.ml import Pipeline, PipelineModel\n",
    "from pyspark.ml.feature import HashingTF, IDF, Tokenizer, RegexTokenizer, StopWordsRemover\n",
    "from pyspark.sql import SparkSession, functions, types\n",
    "from pyspark.ml.classification import LogisticRegression, LinearSVC, NaiveBayes\n",
    "from pyspark.ml.evaluation import MulticlassClassificationEvaluator\n",
    "import matplotlib.pyplot as plt\n",
    "%matplotlib inline"
   ]
  },
  {
   "cell_type": "markdown",
   "id": "4e2bf860",
   "metadata": {},
   "source": [
    "First, the current version of Spark ML library is based on dataframe, and its entry point is **SparkSession**.\n",
    "\n",
    "then I read the data, and use **withColumn()** to add the label column.\n",
    "\n",
    "And **union()** is used to put the data of positive and negative labels together."
   ]
  },
  {
   "cell_type": "code",
   "execution_count": 11,
   "id": "519aa3eb",
   "metadata": {},
   "outputs": [],
   "source": [
    "spark = SparkSession.builder.master(\"local\").appName(\"Classification\").getOrCreate()\n",
    "readData = lambda path, label: spark.read.text(path).withColumn(\"label\", functions.lit(label))\n",
    "pTrain = readData(\"./spam-datasets/spam_training.txt\",1)\n",
    "nTrain = readData(\"./spam-datasets/nospam_training.txt\",0)\n",
    "pTest = readData(\"./spam-datasets/spam_testing.txt\",1)\n",
    "nTest = readData(\"./spam-datasets/nospam_testing.txt\",0)\n",
    "trainSet = pTrain.union(nTrain).cache()\n",
    "testSet = pTest.union(nTest).cache()"
   ]
  },
  {
   "cell_type": "code",
   "execution_count": 10,
   "id": "50286812",
   "metadata": {},
   "outputs": [
    {
     "name": "stdout",
     "output_type": "stream",
     "text": [
      "+----------------------------------------------------------------------------------------------------+-----+\n",
      "|                                                                                               value|label|\n",
      "+----------------------------------------------------------------------------------------------------+-----+\n",
      "|You have been specially selected to receive a 2000 pound award! Call 08712402050 BEFORE the lines...|    1|\n",
      "|Not heard from U4 a while. Call 4 rude chat private line 01223585334 to cum. Wan 2C pics of me ge...|    1|\n",
      "|Hello. We need some posh birds and chaps to user trial prods for champneys. Can i put you down? I...|    1|\n",
      "|                             500 free text msgs. Just text ok to 80488 and we'll credit your account|    1|\n",
      "|WIN URGENT! Your mobile number has been awarded with a £2000 prize GUARANTEED call 09061790121 fr...|    1|\n",
      "|Hi, this is Mandy Sullivan calling from HOTMIX FM...you are chosen to receive £5000.00 in our Eas...|    1|\n",
      "|URGENT! Your Mobile number has been awarded with a £2000 Bonus Caller Prize. Call 09058095201 fro...|    1|\n",
      "|                            Missed call alert. These numbers called but left no message. 07008009200|    1|\n",
      "|YOU HAVE WON! As a valued Vodafone customer our computer has picked YOU to win a £150 prize. To c...|    1|\n",
      "|cmon babe, make me horny, *turn* me on! Txt me your fantasy now babe -) Im hot, sticky and need y...|    1|\n",
      "|Moby Pub Quiz.Win a £100 High Street prize if u know who the new Duchess of Cornwall will be? Txt...|    1|\n",
      "|                          it to 80488. Your 500 free text messages are valid until 31 December 2005.|    1|\n",
      "|URGENT! Your mobile was awarded a £1,500 Bonus Caller Prize on 27/6/03. Our final attempt 2 conta...|    1|\n",
      "|Hi its LUCY Hubby at meetins all day Fri & I will B alone at hotel U fancy cumin over? Pls leave ...|    1|\n",
      "|Had your mobile 11 months or more? U R entitled to Update to the latest colour mobiles with camer...|    1|\n",
      "|5 Free Top Polyphonic Tones call 087018728737, National Rate. Get a toppoly tune sent every week,...|    1|\n",
      "|SMS SERVICES. for your inclusive text credits, pls goto www.comuk.net login= ***** unsubscribe wi...|    1|\n",
      "|Well done ENGLAND! Get the official poly ringtone or colour flag on yer mobile! text TONE or FLAG...|    1|\n",
      "|Ur cash-balance is currently 500 pounds - to maximize ur cash-in now send GO to 86688 only 150p/m...|    1|\n",
      "|22 days to kick off! For Euro2004 U will be kept up to date with the latest news and results dail...|    1|\n",
      "+----------------------------------------------------------------------------------------------------+-----+\n",
      "only showing top 20 rows\n",
      "\n"
     ]
    }
   ],
   "source": [
    "pTrain.show(20,100)"
   ]
  },
  {
   "cell_type": "code",
   "execution_count": 12,
   "id": "e571374d",
   "metadata": {},
   "outputs": [
    {
     "name": "stdout",
     "output_type": "stream",
     "text": [
      "+----------------------------------------------------------------------------------------------------+-----+\n",
      "|                                                                                               value|label|\n",
      "+----------------------------------------------------------------------------------------------------+-----+\n",
      "|                                                             If you have belive me. Come to my home.|    0|\n",
      "|                                                                   Are you planning to come chennai?|    0|\n",
      "|Hi its me you are probably having too much fun to get this message but i thought id txt u cos im ...|    0|\n",
      "|                                                          2marrow only. Wed at  &lt;#&gt;  to 2 aha.|    0|\n",
      "|                                                                                               Ok...|    0|\n",
      "|For real when u getting on yo? I only need 2 more tickets and one more jacket and I'm done. I alr...|    0|\n",
      "|                                                                                     How's ur paper?|    0|\n",
      "|                                                                           K I'm ready,  &lt;#&gt; ?|    0|\n",
      "|                                                                                   I anything lor...|    0|\n",
      "|                                                                     Shall call now dear having food|    0|\n",
      "|                                    Boo I'm on my way to my moms. She's making tortilla soup. Yummmm|    0|\n",
      "|                                             Where are the garage keys? They aren't on the bookshelf|    0|\n",
      "|                                          Awesome, think we can get an 8th at usf some time tonight?|    0|\n",
      "|                                          Sounds gd... Haha... Can... Wah, u yan jiu so fast liao...|    0|\n",
      "|                                          What you thinked about me. First time you saw me in class.|    0|\n",
      "|                             Okie ü wan meet at bishan? Cos me at bishan now. I'm not driving today.|    0|\n",
      "|                                                                      At 4. Let's go to bill millers|    0|\n",
      "|Ok that would b lovely, if u r sure. Think about wot u want to do, drinkin, dancin, eatin, cinema...|    0|\n",
      "|NEFT Transaction with reference number  &lt;#&gt;  for Rs. &lt;DECIMAL&gt;  has been credited to ...|    0|\n",
      "|                                  A few people are at the game, I'm at the mall with iouri and kaila|    0|\n",
      "+----------------------------------------------------------------------------------------------------+-----+\n",
      "only showing top 20 rows\n",
      "\n"
     ]
    }
   ],
   "source": [
    "nTrain.show(20,100)"
   ]
  },
  {
   "cell_type": "markdown",
   "id": "e5ebf12a",
   "metadata": {},
   "source": [
    "**RegexTokenizer()** used regular expressions to remove all words with numbers, links, and all punctuation that has no effect on the meaning of the word: i.e. all punctuation except hyphens and apostrophes.\n",
    "\n",
    "**StopWordsRemover()** is used to remove so-called \"stop words\", such as 'the', 'is', 'at' … which appear very frequently but have little concret meaning.\n",
    "\n",
    "Spark uses **HashingTF()** to calculate TF values: it maps each word to indices using a hash function and calculates their frequencies. Then apply IDF to penalize the effect of words that appear in many lines."
   ]
  },
  {
   "cell_type": "code",
   "execution_count": 4,
   "id": "fec2f241",
   "metadata": {},
   "outputs": [],
   "source": [
    "tokenizer = RegexTokenizer(pattern=\"[^a-z0-9A-Z\\-\\']|https?://\\S+|www\\.\\S+|\\w*\\d\\w*\", \n",
    "                           inputCol=\"value\", outputCol=\"words_s\")\n",
    "remover = StopWordsRemover(inputCol=\"words_s\", outputCol=\"words\")\n",
    "hashingTF = HashingTF(inputCol=\"words\", outputCol=\"rawFeatures\", numFeatures=16384)\n",
    "idf = IDF(inputCol=\"rawFeatures\", outputCol=\"features\")"
   ]
  },
  {
   "cell_type": "markdown",
   "id": "095f91a8",
   "metadata": {},
   "source": [
    "Then I built the machine learning pipeline using spark's **Pipeline()**, which chained together the data preprocessing: **RegexTokenizer()**, **StopWordsRemover()** and feature extraction/weighting processes: **HashingTF()**, **IDF()**), while I put the estimators at the end, aka machine learning (classification) algorithms.\n",
    "\n",
    "I used three different classification algorithms: logistic regression: **LogisticRegression()**, naive bayes: **NaiveBayes()**, support vector machine: **LinearSVC()**.\n",
    "\n",
    "Then I put the training set into the pipeline and complete the training process by using **fit()** to get the model"
   ]
  },
  {
   "cell_type": "code",
   "execution_count": 6,
   "id": "bc271ea1",
   "metadata": {},
   "outputs": [],
   "source": [
    "pipelineFit = lambda estimator: Pipeline(stages=[tokenizer, remover, hashingTF, \n",
    "                                                 idf, estimator]).fit(trainSet)\n",
    "lr = LogisticRegression()\n",
    "nb = NaiveBayes()\n",
    "svm = LinearSVC()\n",
    "lrModel = pipelineFit(lr)\n",
    "nbModel = pipelineFit(nb)\n",
    "svmModel = pipelineFit(svm)"
   ]
  },
  {
   "cell_type": "markdown",
   "id": "26fd6c4f",
   "metadata": {},
   "source": [
    "After that I use the model to predict by using **predict()** the results based on the test data"
   ]
  },
  {
   "cell_type": "code",
   "execution_count": 7,
   "id": "1dad7e58",
   "metadata": {},
   "outputs": [],
   "source": [
    "predict = lambda model: model.transform(testSet).select(\"prediction\", \"label\")\n",
    "lrPredictions = predict(lrModel)\n",
    "nbPredictions = predict(nbModel)\n",
    "svmPredictions = predict(svmModel)"
   ]
  },
  {
   "cell_type": "markdown",
   "id": "d40619db",
   "metadata": {},
   "source": [
    "I use **MulticlassClassificationEvaluator()** to evaluate by using the **evaluate()** prediction results. First, I choose three metrics: \n",
    "\n",
    "**accuracy**: the proportion of correct predictions to all predictions; \n",
    "\n",
    "**recallByLabel**: the proportion of correct positives to all positive predictions; \n",
    "\n",
    "**precisionByLabel**: the proportion of correct positives to all positives.\n"
   ]
  },
  {
   "cell_type": "code",
   "execution_count": 8,
   "id": "707f516c",
   "metadata": {},
   "outputs": [],
   "source": [
    "getMetric = lambda predictions, metric: MulticlassClassificationEvaluator(metricName=metric).evaluate(predictions)\n",
    "getMetrics = lambda predictions: (getMetric(predictions, \"accuracy\"), getMetric(predictions, \"recallByLabel\"), \n",
    "                                  getMetric(predictions, \"precisionByLabel\"))\n",
    "\n",
    "lr_acc, lr_rec, lr_pre = getMetrics(lrPredictions)\n",
    "nb_acc, nb_rec, nb_pre = getMetrics(nbPredictions)\n",
    "svm_acc, svm_rec, svm_pre = getMetrics(svmPredictions)"
   ]
  },
  {
   "cell_type": "markdown",
   "id": "019d691a",
   "metadata": {},
   "source": [
    "I compare the results of the three models through bar chart, based on the three metrics mentioned above"
   ]
  },
  {
   "cell_type": "code",
   "execution_count": 14,
   "id": "e6ae1f1c",
   "metadata": {},
   "outputs": [],
   "source": [
    "def plot_bar(y, label): \n",
    "    fig, ax = plt.subplots()\n",
    "    labels = [\"LogisticRegression\", \"NaiveBayes\", \"SVM\"]\n",
    "    colors = [\"red\",\"green\",\"blue\"]\n",
    "    ax.bar(range(3), y, tick_label=labels, color=colors)\n",
    "    ax.set_ylabel(label)\n",
    "    for i,v in enumerate(y):\n",
    "        ax.text(i-.1, v, str(round(v*100,2))+\"%\", fontweight='bold')\n",
    "    plt.ylim(0.9,1)\n",
    "    plt.show()"
   ]
  },
  {
   "cell_type": "markdown",
   "id": "3606eaef",
   "metadata": {},
   "source": [
    "It can be seen that the SVM results are the best and the logistic regression the worst: in this example, the more complex model has an advantage."
   ]
  },
  {
   "cell_type": "code",
   "execution_count": 15,
   "id": "91ebd5dd",
   "metadata": {},
   "outputs": [
    {
     "data": {
      "image/png": "[encoded data removed]",
      "text/plain": [
       "<Figure size 432x288 with 1 Axes>"
      ]
     },
     "metadata": {
      "needs_background": "light"
     },
     "output_type": "display_data"
    },
    {
     "data": {
      "image/png": "[encoded data removed]",
      "text/plain": [
       "<Figure size 432x288 with 1 Axes>"
      ]
     },
     "metadata": {
      "needs_background": "light"
     },
     "output_type": "display_data"
    },
    {
     "data": {
      "image/png": "[encoded data removed]",
      "text/plain": [
       "<Figure size 432x288 with 1 Axes>"
      ]
     },
     "metadata": {
      "needs_background": "light"
     },
     "output_type": "display_data"
    }
   ],
   "source": [
    "plot_bar([lr_acc, nb_acc, svm_acc], \"Accuracy\")\n",
    "plot_bar([lr_rec, nb_rec, svm_rec], \"Recall\")\n",
    "plot_bar([lr_pre, nb_pre, svm_pre], \"Precision\")"
   ]
  },
  {
   "cell_type": "code",
   "execution_count": null,
   "id": "25624270",
   "metadata": {},
   "outputs": [],
   "source": []
  }
 ],
 "metadata": {
  "kernelspec": {
   "display_name": "Python 3 (ipykernel)",
   "language": "python",
   "name": "python3"
  },
  "language_info": {
   "codemirror_mode": {
    "name": "ipython",
    "version": 3
   },
   "file_extension": ".py",
   "mimetype": "text/x-python",
   "name": "python",
   "nbconvert_exporter": "python",
   "pygments_lexer": "ipython3",
   "version": "3.9.7"
  }
 },
 "nbformat": 4,
 "nbformat_minor": 5
}
